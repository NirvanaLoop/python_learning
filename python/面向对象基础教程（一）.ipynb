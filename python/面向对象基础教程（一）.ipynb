{
 "cells": [
  {
   "cell_type": "markdown",
   "id": "706e0a58",
   "metadata": {},
   "source": [
    "# Python面向对象编程基础入门（一）\n",
    "\n",
    "掌握类、对象、属性、方法等核心概念。"
   ]
  },
  {
   "cell_type": "markdown",
   "id": "e8e363ba",
   "metadata": {},
   "source": [
    "# 一、面向对象的概念 #\n",
    "\n",
    "\n",
    "<br>\n",
    "\n",
    "\n",
    "## 1、面向对象的两个基本概念 ##\n",
    "\n",
    "编程语言中，一般有两种编程思维，面向过程和面向对象。\n",
    "\n",
    "\n",
    "\n",
    "面向过程，看重的是解决问题的过程。\n",
    "\n",
    "这好比我们解决日常生活问题差不多，分析解决问题的步骤，然后一步一步的解决。\n",
    "\n",
    "\n",
    "而面向对象是一种抽象，抽象是指用分类的眼光去看世界的一种方法。\n",
    "\n",
    "Python 就是一门面向对象的语言, \n",
    "\n",
    "如果你学过 Java ，就知道 Java 的编程思想就是：万事万物皆对象。Python 也不例外，在解决实际问题的过程中，可以把构成问题事务分解成各个对象。\n",
    "\n",
    "面向对象都有两个基本的概念，分别是类和对象。\n",
    "<br>\n",
    "\n",
    "\n",
    "* **类**\n",
    "\n",
    "用来描述具有相同的属性和方法的对象的集合。它定义了该集合中每个对象所共有的属性和方法。对象是类的实例。\n",
    "\n",
    "* **对象**\n",
    "\n",
    "通过类定义的数据结构实例\n",
    "\n",
    "\n",
    "<br>\n",
    "\n",
    "\n",
    "类比讲解：\n",
    "\n",
    "类就像“图纸”，比如汽车图纸；\n",
    "\n",
    "对象就是“实物”，比如你家的那辆车的实物。\n",
    "\n",
    "<br>\n",
    "\n",
    "\n",
    "## 2、面向对象的三大特性 ##\n",
    "\n",
    "面向对象的编程语言，也有三大特性，继承，多态和封装性。\n",
    "<br>\n",
    "\n",
    "\n",
    "* **继承**\n",
    "\n",
    "即一个派生类（derived class）继承基类（base class）的字段和方法。继承也允许把一个派生类的对象作为一个基类对象对待。\n",
    "\n",
    "例如：一个 Dog 类型的对象派生自 Animal 类，这是模拟\"是一个（is-a）\"关系（例图，Dog 是一个 Animal ）。\n",
    "<br>\n",
    "\n",
    "\n",
    "* **多态**\n",
    "\n",
    "它是指对不同类型的变量进行相同的操作，它会根据对象（或类）类型的不同而表现出不同的行为。\n",
    "\n",
    "<br>\n",
    "\n",
    "* **封装性**\n",
    "\n",
    "“封装”就是将抽象得到的数据和行为（或功能）相结合，形成一个有机的整体（即类）；封装的目的是增强安全性和简化编程，使用者不必了解具体的实现细节，而只是要通过外部接口，一特定的访问权限来使用类的成员。\n",
    "\n",
    "<br>\n",
    "\n"
   ]
  },
  {
   "cell_type": "markdown",
   "id": "7b571f46",
   "metadata": {},
   "source": [
    "### 示例：面向过程 vs 面向对象\n",
    "<br>\n"
   ]
  },
  {
   "cell_type": "code",
   "execution_count": 7,
   "id": "06132d34",
   "metadata": {
    "scrolled": true
   },
   "outputs": [
    {
     "name": "stdout",
     "output_type": "stream",
     "text": [
      "姓名: Jesse, 年龄: 14, 年级: 初三\n"
     ]
    }
   ],
   "source": [
    "# 面向过程处理学生信息\n",
    "name = \"Jesse\"\n",
    "age = 14\n",
    "grade = \"初三\"\n",
    "\n",
    "def print_info(name, age, grade):\n",
    "    print(f\"姓名: {name}, 年龄: {age}, 年级: {grade}\")\n",
    "\n",
    "    \n",
    "# name1 = \"Celeste\"\n",
    "# age1 = 14\n",
    "# grade1 = \"初三\"\n",
    "\n",
    "# def print_info(name, age, grade):\n",
    "#     print(f\"姓名: {name}, 年龄: {age}, 年级: {grade}\")\n",
    "\n",
    "print_info(name, age, grade)"
   ]
  },
  {
   "cell_type": "code",
   "execution_count": 5,
   "id": "c121b33b",
   "metadata": {},
   "outputs": [
    {
     "name": "stdout",
     "output_type": "stream",
     "text": [
      "姓名: Jesse, 年龄: 14, 年级: 初三\n"
     ]
    }
   ],
   "source": [
    "# 面向对象定义学生类\n",
    "class Student:\n",
    "    def __init__(self, name, age, grade):\n",
    "        self.name = name\n",
    "        self.age = age\n",
    "        self.grade = grade\n",
    "\n",
    "    def print_info(self):\n",
    "        print(f\"姓名: {self.name}, 年龄: {self.age}, 年级: {self.grade}\")\n",
    "\n",
    "stu = Student(\"Jesse\", 14, \"初三\")\n",
    "stu.print_info()"
   ]
  },
  {
   "cell_type": "code",
   "execution_count": 6,
   "id": "9942ba68",
   "metadata": {},
   "outputs": [
    {
     "name": "stdout",
     "output_type": "stream",
     "text": [
      "姓名: Celeste, 年龄: 16, 年级: 89\n",
      "姓名: Jesse, 年龄: 14, 年级: 93\n"
     ]
    }
   ],
   "source": [
    "# 多个对象共享一个类模版\n",
    "stu1 = Student(\"Celeste\", 16, 89)\n",
    "stu2 = Student(\"Jesse\", 14, 93)\n",
    "\n",
    "stu1.print_info()\n",
    "stu2.print_info()\n"
   ]
  },
  {
   "cell_type": "markdown",
   "id": "d193c7e2",
   "metadata": {},
   "source": [
    "# 二、类的定义和调用 #\n",
    "\n",
    "<br>\n",
    "\n",
    "\n",
    "## 1、怎么理解类？ ##\n",
    "\n",
    "类是什么？\n",
    "\n",
    "个人认为理解类，最简单的方式就是：类是一个**变量和函数的集合**。\n",
    "\n",
    "可以看下下面的这张图。\n",
    "\n",
    "![](http://twowaterimage.oss-cn-beijing.aliyuncs.com/2020-03-09-014706.jpg)\n",
    "\n",
    "这张图很好的诠释了类，就是把变量和函数包装在一起。\n",
    "\n",
    "当然我们包装也不是毫无目的的包装，我们会把同性质的包装在一个类里，这样就方便我们重复使用。\n",
    "\n",
    "所以学到现在，你会发现很多编程的设计，都是为了我们能偷懒，重复使用。\n",
    "\n",
    "<br>\n",
    "\n",
    "\n",
    "\n",
    "## 2、怎么定义类 ##\n",
    "<br>\n",
    "\n",
    "知道了类是什么样子的，我们接下来就要学习怎么去定义类了。\n",
    "\n",
    "类定义语法格式如下：\n"
   ]
  },
  {
   "cell_type": "markdown",
   "id": "1f11118c",
   "metadata": {},
   "source": [
    "### 示例：定义并调用一个类"
   ]
  },
  {
   "cell_type": "code",
   "execution_count": 8,
   "id": "0efc5ed0",
   "metadata": {},
   "outputs": [
    {
     "name": "stdout",
     "output_type": "stream",
     "text": [
      "Jesse\n",
      "14\n"
     ]
    }
   ],
   "source": [
    "class Person:\n",
    "    name = \"Jesse\"\n",
    "    age = 14\n",
    "\n",
    "print(Person.name)  # 输出：默认名\n",
    "print(Person.age)   # 输出：18\n"
   ]
  },
  {
   "cell_type": "code",
   "execution_count": 10,
   "id": "df7366ac",
   "metadata": {},
   "outputs": [
    {
     "name": "stdout",
     "output_type": "stream",
     "text": [
      "鱼丸（柯基）汪汪叫！\n"
     ]
    }
   ],
   "source": [
    "class Dog:\n",
    "    def __init__(self, name, breed):\n",
    "        self.name = name\n",
    "        self.breed = breed\n",
    "\n",
    "    def bark(self):\n",
    "        print(f\"{self.name}（{self.breed}）汪汪叫！\")\n",
    "\n",
    "Jesses_dog = Dog(\"鱼丸\",\"柯基\")\n",
    "Jesses_dog.bark()   \n",
    "\n",
    "\n",
    "# dog1 = Dog(\"小黑\", \"哈士奇\")\n",
    "# dog2 = Dog(\"大黄\", \"拉布拉多\")\n",
    "# dog1.bark()\n",
    "# dog2.bark()"
   ]
  },
  {
   "cell_type": "code",
   "execution_count": 8,
   "id": "4143e306",
   "metadata": {},
   "outputs": [
    {
     "ename": "SyntaxError",
     "evalue": "invalid syntax (1851541891.py, line 2)",
     "output_type": "error",
     "traceback": [
      "\u001b[1;36m  Cell \u001b[1;32mIn[8], line 2\u001b[1;36m\u001b[0m\n\u001b[1;33m    <statement-1>\u001b[0m\n\u001b[1;37m    ^\u001b[0m\n\u001b[1;31mSyntaxError\u001b[0m\u001b[1;31m:\u001b[0m invalid syntax\n"
     ]
    }
   ],
   "source": [
    "class ClassName():\n",
    "    <statement-1>\n",
    "    .\n",
    "    .\n",
    "    .\n",
    "    <statement-N>"
   ]
  },
  {
   "cell_type": "markdown",
   "id": "74740894",
   "metadata": {},
   "source": [
    "\n",
    "可以看到，我们是用 `class` 语句来自定义一个类的，其实这就好比我们是用 `def` 语句来定义一个函数一样。\n",
    "\n",
    "类是变量和方法的集合包，那么我们来创建一个类。\n"
   ]
  },
  {
   "cell_type": "code",
   "execution_count": 10,
   "id": "56bb88cc",
   "metadata": {},
   "outputs": [],
   "source": [
    "class ClassA():\n",
    "    var1 = 100\n",
    "    var2 = 0.01\n",
    "    var3 = 'Jesse'\n",
    "\n",
    "    def fun1():\n",
    "        print('我是 fun1')\n",
    "\n",
    "    def fun2():\n",
    "        print('我是 fun1')\n",
    "\n",
    "    def fun3():\n",
    "        print('我是 fun1')"
   ]
  },
  {
   "cell_type": "markdown",
   "id": "6c7bce7b",
   "metadata": {},
   "source": [
    "\n",
    "你看，上面我们就定义了一个类，类名叫做 `ClassA` , 类里面的变量我们称之为属性，那么就是这个类里面有 3 个属性，分别是 `var1` , `var2` 和 `var3` 。除此之外，类里面还有 3 个类方法 `fun1()` , `fun2()` 和 `fun3()` 。\n",
    "\n",
    "\n",
    "\n",
    "<br>\n",
    "\n",
    "\n",
    "## 3、怎么调用类属性和类方法 ##\n",
    "<br>\n",
    "\n",
    "\n",
    "我们定义了类之后，那么我们怎么调用类里面的属性和方法呢？\n",
    "\n",
    "直接看下图：\n",
    "\n",
    "![](http://twowaterimage.oss-cn-beijing.aliyuncs.com/2020-03-09-014728.jpg)\n",
    "\n",
    "\n",
    "\n",
    "好了，知道怎么调用之后，我们尝试一下：\n",
    "\n",
    "\n"
   ]
  },
  {
   "cell_type": "code",
   "execution_count": 11,
   "id": "34e22fbc",
   "metadata": {},
   "outputs": [],
   "source": [
    "class Book:\n",
    "    # 类属性（所有图书共用）\n",
    "    library_name = \"城市图书馆\"\n",
    "\n",
    "    # 构造方法，定义实例属性\n",
    "    def __init__(self, title, author, total_pages):\n",
    "        self.title = title\n",
    "        self.author = author\n",
    "        self.total_pages = total_pages\n",
    "        self.current_page = 1  # 初始阅读页码\n",
    "\n",
    "    # 实例方法：翻页\n",
    "    def turn_page(self, pages):\n",
    "        self.current_page += pages\n",
    "        if self.current_page > self.total_pages:\n",
    "            self.current_page = self.total_pages\n",
    "        print(f\"《{self.title}》已翻到第 {self.current_page} 页\")\n",
    "\n",
    "    # 实例方法：查看当前阅读进度\n",
    "    def progress(self):\n",
    "        progress_percent = (self.current_page / self.total_pages) * 100\n",
    "        print(f\"《{self.title}》已阅读 {progress_percent:.1f}%\")\n",
    "\n",
    "    # 类方法：获取图书馆名称\n",
    "    @classmethod\n",
    "    def get_library(cls):\n",
    "        print(f\"图书所属：{cls.library_name}\")\n"
   ]
  },
  {
   "cell_type": "code",
   "execution_count": 12,
   "id": "58f47a55",
   "metadata": {},
   "outputs": [
    {
     "name": "stdout",
     "output_type": "stream",
     "text": [
      "《Python 入门》已翻到第 46 页\n",
      "《Python 入门》已阅读 15.3%\n",
      "《人工智能导论》已翻到第 101 页\n",
      "《人工智能导论》已阅读 22.4%\n",
      "图书所属：城市图书馆\n"
     ]
    }
   ],
   "source": [
    "# 创建两个 Book 实例\n",
    "book1 = Book(\"Python 入门\", \"张三\", 300)\n",
    "book2 = Book(\"人工智能导论\", \"李四\", 450)\n",
    "\n",
    "# 使用实例方法\n",
    "book1.turn_page(45)\n",
    "book1.progress()\n",
    "\n",
    "book2.turn_page(100)\n",
    "book2.progress()\n",
    "\n",
    "# 使用类方法访问类属性\n",
    "Book.get_library()\n"
   ]
  },
  {
   "cell_type": "markdown",
   "id": "ce1fc612",
   "metadata": {},
   "source": [
    "# 三、类方法\n",
    "\n",
    "<br>\n"
   ]
  },
  {
   "cell_type": "markdown",
   "id": "d6f35d83",
   "metadata": {},
   "source": [
    "## 1、类方法如何调用类属性\n",
    "\n",
    "通过上面我们已经会定义类了，那么这里讲一下在同一个类里，类方法如何调用类属性的。\n",
    "\n",
    "直接看个例子吧：\n",
    "\n",
    "![](http://twowaterimage.oss-cn-beijing.aliyuncs.com/2019-10-08-110451.png)\n",
    "\n",
    "注意看，在类方法上面多了个 `@classmethod` ，这是干嘛用的呢？\n",
    "\n",
    "这是用于声明下面的函数是类函数。其实从名字就很好理解了。\n",
    "\n",
    "class 就是类，method 就是方法。\n",
    "\n",
    "那是不是一定需要注明这个呢？\n",
    "\n",
    "答案是是的。\n",
    "\n",
    "如果你没使用，是会报错的。\n",
    "\n",
    "![](http://twowaterimage.oss-cn-beijing.aliyuncs.com/2019-10-08-110822.png)\n",
    "\n",
    "如果没有声明是类方法，方法参数中就没有 `cls` , 就没法通过 `cls` 获取到类属性。\n",
    "\n",
    "因此类方法，想要调用类属性，需要以下步骤：\n",
    "\n",
    "* 在方法上面，用 `@classmethod` 声明该方法是类方法。只有声明了是类方法，才能使用类属性\n",
    "* 类方法想要使用类属性，在第一个参数中，需要写上 `cls` ,  cls 是 class 的缩写，其实意思就是把这个类作为参数，传给自己，这样就可以使用类属性了。\n",
    "* 类属性的使用方式就是 `cls.变量名`\n",
    "\n",
    "记住喔，无论是 `@classmethod` 还是 `cls` ,都是不能省去的。\n",
    "\n",
    "省了都会报错。"
   ]
  },
  {
   "cell_type": "code",
   "execution_count": 14,
   "id": "a47dd1e7",
   "metadata": {},
   "outputs": [
    {
     "name": "stdout",
     "output_type": "stream",
     "text": [
      "默认分辨率： 1920x1080\n",
      "是否全屏： True\n"
     ]
    }
   ],
   "source": [
    "# 调用类属性\n",
    "class GameSettings:\n",
    "    resolution = \"1920x1080\"\n",
    "    fullscreen = True\n",
    "\n",
    "print(\"默认分辨率：\", GameSettings.resolution)\n",
    "print(\"是否全屏：\", GameSettings.fullscreen)\n",
    "\n"
   ]
  },
  {
   "cell_type": "markdown",
   "id": "ec7bf23d",
   "metadata": {},
   "source": [
    "## 2、类方法传参\n",
    "\n",
    "<br>\n",
    "\n",
    "上面我们学习了类方法如何调用类属性，那么类方法如何传参呢？\n",
    "\n",
    "其实很简单，跟普通的函数一样，直接增加参数就好了。\n",
    "\n",
    "这个就直接上例子了：\n",
    "\n",
    "![](http://twowaterimage.oss-cn-beijing.aliyuncs.com/2019-10-08-113458.png)"
   ]
  },
  {
   "cell_type": "code",
   "execution_count": 15,
   "id": "765be5b9",
   "metadata": {},
   "outputs": [
    {
     "name": "stdout",
     "output_type": "stream",
     "text": [
      "半径为 5 的圆面积为：78.54\n"
     ]
    }
   ],
   "source": [
    "# 类方法传参\n",
    "class MathTool:\n",
    "    pi = 3.14159\n",
    "\n",
    "    @classmethod\n",
    "    def area_of_circle(cls, radius):\n",
    "        return cls.pi * radius * radius\n",
    "\n",
    "result = MathTool.area_of_circle(5)\n",
    "print(f\"半径为 5 的圆面积为：{result:.2f}\")"
   ]
  },
  {
   "cell_type": "markdown",
   "id": "13f79703",
   "metadata": {},
   "source": [
    "# 四、修改和增加类属性 #\n",
    "\n",
    "\n",
    "## 1、从内部增加和修改类属性 ##\n",
    "\n",
    "来，我们先来温习一下类的结构。\n",
    "\n",
    "![](http://twowaterimage.oss-cn-beijing.aliyuncs.com/2019-10-08-034102.png)\n",
    "\n",
    "看着这个结构，提一个问题，如何修改类属性，也就是类里面的变量？\n",
    "\n",
    "从类结构来看，我们可以猜测，从类方法来修改，也就是从类内部来修改和增加类属性。\n",
    "\n",
    "看下具体的实例：\n",
    "\n",
    "![](http://twowaterimage.oss-cn-beijing.aliyuncs.com/2019-10-08-120146.png)\n",
    "\n",
    "\n",
    "使用 @classmethod 和 cls.属性名 来访问与修改\n",
    "\n",
    "\n",
    "## 2、从外部增加和修改类属性 ##\n",
    "\n",
    "我们刚刚看了通过类方法来修改类的属性，这时我们看下从外部如何修改和增加类属性。\n",
    "\n",
    "例子如下：\n",
    "\n",
    "![](http://twowaterimage.oss-cn-beijing.aliyuncs.com/2019-10-08-121135.png)\n",
    "\n",
    "\n",
    "使用 类名.属性名 = 值 直接赋新值\n"
   ]
  },
  {
   "cell_type": "code",
   "execution_count": 19,
   "id": "a56fa292",
   "metadata": {},
   "outputs": [
    {
     "name": "stdout",
     "output_type": "stream",
     "text": [
      "当前得分记录： [88, 92]\n"
     ]
    }
   ],
   "source": [
    "# 内部增加与修改类属性\n",
    "\n",
    "class ScoreBoard:\n",
    "    scores = []\n",
    "\n",
    "    @classmethod\n",
    "    def add_score(cls, score):\n",
    "        cls.scores.append(score)\n",
    "\n",
    "    @classmethod\n",
    "    def show_scores(cls):\n",
    "        print(\"当前得分记录：\", cls.scores)\n",
    "\n",
    "ScoreBoard.add_score(88)\n",
    "ScoreBoard.add_score(92)\n",
    "ScoreBoard.show_scores()\n"
   ]
  },
  {
   "cell_type": "code",
   "execution_count": 20,
   "id": "d7580ca8",
   "metadata": {},
   "outputs": [
    {
     "name": "stdout",
     "output_type": "stream",
     "text": [
      "Debug 模式： True\n",
      "主题设置： dark\n"
     ]
    }
   ],
   "source": [
    "# 从外部增加与修改类属性\n",
    "\n",
    "class Config:\n",
    "    debug = False\n",
    "\n",
    "# 外部修改已有的类属性\n",
    "Config.debug = True\n",
    "\n",
    "# 外部增加新的类属性\n",
    "Config.theme = \"dark\"\n",
    "\n",
    "print(\"Debug 模式：\", Config.debug)\n",
    "print(\"主题设置：\", Config.theme)\n"
   ]
  },
  {
   "cell_type": "code",
   "execution_count": 22,
   "id": "557091cb",
   "metadata": {},
   "outputs": [
    {
     "name": "stdout",
     "output_type": "stream",
     "text": [
      "20\n",
      "10\n",
      "20\n"
     ]
    }
   ],
   "source": [
    "# 类属性与实例属性的区别\n",
    "class Demo:\n",
    "    x = 10  # 类属性\n",
    "\n",
    "    def __init__(self):\n",
    "        self.x = 20  # 实例属性，隐藏了类属性\n",
    "\n",
    "a = Demo()\n",
    "print(a.x)  # 输出 20（实例属性）\n",
    "\n",
    "print(Demo.x)  # 输出 10（类属性）\n",
    "\n",
    "Demo.x = 99  # 修改类属性\n",
    "\n",
    "b = Demo()\n",
    "print(b.x)  # 仍输出 20（实例属性不受影响）\n"
   ]
  },
  {
   "cell_type": "markdown",
   "id": "e78ec730",
   "metadata": {},
   "source": [
    "**类属性通常用于所有对象共享的数据；**\n",
    "\n",
    "**实例属性优先级高于类属性；**\n",
    "\n",
    "**如果实例修改了类属性名同名变量，会在对象中生成新实例属性，屏蔽类属性。**"
   ]
  },
  {
   "cell_type": "markdown",
   "id": "072fdc66",
   "metadata": {},
   "source": [
    "# 五、类和对象 #\n",
    "\n",
    "<br>\n",
    "\n",
    "## 1、类和对象之间的关系 ##\n",
    "\n",
    "这部分内容主要讲类和对象，我们先来说说类和对象之间的关系。\n",
    "\n",
    "**类是对象的模板**\n",
    "\n",
    "我们得先有了类，才能制作出对象。\n",
    "\n",
    "类就相对于工厂里面的模具，对象就是根据模具制造出来的产品。\n",
    "\n",
    "**从模具变成产品的过程，我们就称为类的实例化。**\n",
    "\n",
    "**类实例化之后，就变成对象了。也就是相当于例子中的产品。**\n",
    "\n",
    "\n",
    "<br>\n",
    "\n",
    "\n",
    "## 2、类的实例化 ##\n",
    "\n",
    "这里强调一下，类的实例化和直接使用类的格式是不一样的。\n",
    "\n",
    "之前我们就学过，直接使用类格式是这样的：\n"
   ]
  },
  {
   "cell_type": "code",
   "execution_count": 1,
   "id": "38152926",
   "metadata": {},
   "outputs": [
    {
     "name": "stdout",
     "output_type": "stream",
     "text": [
      "var1 值为：Jesse\n"
     ]
    }
   ],
   "source": [
    "class ClassA():\n",
    "    var1 = 'Jesse'\n",
    "\n",
    "    @classmethod\n",
    "    def fun1(cls):\n",
    "        print('var1 值为：' + cls.var1)\n",
    "\n",
    "\n",
    "ClassA.fun1()"
   ]
  },
  {
   "cell_type": "markdown",
   "id": "42d1c37b",
   "metadata": {},
   "source": [
    "\n",
    "而类的实例化是怎样的呢？\n",
    "\n",
    "是这样的，可以仔细对比一下，类的实例化和直接使用类的格式有什么不同？\n",
    "\n",
    "![](http://twowaterimage.oss-cn-beijing.aliyuncs.com/2019-10-09-025401.png)\n",
    "\n",
    "\n",
    "主要的不同点有：\n",
    "\n",
    "* 类方法里面没有了 `@classmethod` 声明了，不用声明他是类方法\n",
    "* 类方法里面的参数 `cls` 改为  `self`\n",
    "* 类的使用，变成了先通过 `实例名 = 类()` 的方式实例化对象，为类创建一个实例，然后再使用 `实例名.函数()` 的方式调用对应的方法 ，使用 `实例名.变量名` 的方法调用类的属性\n",
    "\n",
    "\n",
    "这里说明一下，类方法的参数为什么 `cls` 改为  `self` ？\n",
    "\n",
    "其实这并不是说一定要写这个，你改为什么字母，什么名字都可以。 \n",
    "\n",
    "不妨试一下：\n",
    "\n",
    "![](http://twowaterimage.oss-cn-beijing.aliyuncs.com/2019-10-09-032030.png)\n",
    "\n",
    "你看，把 `self` 改为 `aaaaaaaa` 还是可以一样运行的。\n",
    "\n",
    "只不过使用  `cls` 和 `self` 是我们的编程习惯，这也是我们的编程规范。\n",
    "\n",
    "因为 cls 是 class 的缩写，代表这类 ， 而 self 代表这对象的意思。\n",
    "\n",
    "所以啊，这里我们实例化对象的时候，就使用 self 。\n",
    "\n",
    "**而且 self 是所有类方法位于首位、默认的特殊参数。**\n",
    "\n",
    "除此之外，在这里，还要强调一个概念，当你把类实例化之后，里面的属性和方法，就不叫类属性和类方法了，改为叫实例属性和实例方法，也可以叫对象属性和对象方法。\n",
    "\n",
    "为什么要这样强调呢？\n",
    "\n",
    "**因为一个类是可以创造出多个实例对象出来的。**\n",
    "\n",
    "你看下面的例子：\n",
    "\n",
    "![](http://twowaterimage.oss-cn-beijing.aliyuncs.com/2019-10-09-034453.png)\n",
    "\n",
    "我不仅能用这个类创建 a 对象，还能创建 b 对象\n",
    "\n",
    "\n",
    "\n",
    "\n",
    "\n",
    "## 3、实例属性和类属性 ##\n",
    "\n",
    "一个类可以实例化多个对象出来。\n",
    "\n",
    "![](http://twowaterimage.oss-cn-beijing.aliyuncs.com/2019-10-09-040408.png)\n",
    "\n",
    "根据这个图，我们探究一下实例对象的属性和类属性之间有什么关系呢？\n",
    "\n",
    "**先提出第一个问题，如果类属性改变了，实例属性会不会跟着改变呢？**\n",
    "\n",
    "还是跟以前一样，提出了问题，我们直接用程序来验证就好。\n",
    "\n",
    "看程序：\n",
    "\n",
    "\n",
    "![](http://twowaterimage.oss-cn-beijing.aliyuncs.com/2019-10-09-061015.png)\n",
    "\n",
    "\n",
    "从程序运行的结果来看，**类属性改变了，实例属性会跟着改变。**\n",
    "\n",
    "这很好理解，因为我们的实例对象就是根据类来复制出来的，类属性改变了，实例对象的属性也会跟着改变。\n",
    "\n",
    "**那么相反，如果实例属性改变了，类属性会改变吗？**\n",
    "\n",
    "答案当然是不能啦。因为每个实例都是单独的个体，不能影响到类的。\n",
    "\n",
    "具体我们做下实验：\n",
    "\n",
    "\n",
    "![](http://twowaterimage.oss-cn-beijing.aliyuncs.com/2019-10-09-062437.png)\n",
    "\n",
    "可以看到，**不管实例对象怎么修改属性值，对类的属性还是没有影响的。**\n",
    "\n",
    "\n",
    "\n",
    "\n",
    "## 4、实例方法和类方法 ##\n",
    "\n",
    "那这里跟上面一样，还是提出同样的问题。\n",
    "\n",
    "**如果类方法改变了，实例方法会不会跟着改变呢？**\n",
    "\n",
    "看下下面的例子：\n",
    "\n",
    "![](http://twowaterimage.oss-cn-beijing.aliyuncs.com/2019-10-09-063242.png)\n",
    "\n",
    "这里建议我的例子，各位都要仔细看一下，自己重新敲一遍。相信为什么要这么做，这么证明。\n",
    "\n",
    "还是那句话多想，多敲。\n",
    "\n",
    "回归正题，从运行的结果来看，类方法改变了，实例方法也是会跟着改变的。\n",
    "\n",
    "在这个例子中，我们需要改变类方法，就用到了**类的重写**。\n",
    "\n",
    "我们使用了  `类.原始函数 = 新函数`  就完了类的重写了。\n",
    "\n",
    "要注意的是，这里的赋值是在替换方法，并不是调用函数。所以是不能加上括号的，也就是 `类.原始函数() = 新函数()` 这个写法是不对的。\n",
    "\n",
    "\n",
    "**那么如果实例方法改变了，类方法会改变吗？**\n",
    "\n",
    "如果这个问题我们需要验证的话，是不是要重写实例的方法，然后观察结果，看看类方法有没有改变，这样就能得出结果了。\n",
    "\n",
    "\n",
    "可是我们是不能重写实例方法。\n",
    "\n",
    "你看，会直接报错。\n",
    "\n",
    "![](http://twowaterimage.oss-cn-beijing.aliyuncs.com/2019-10-09-064303.png)\n",
    "\n",
    "\n",
    "\n",
    "\n",
    "\n",
    "\n",
    "\n",
    "\n",
    "\n",
    "\n",
    "\n",
    "\n",
    "\n"
   ]
  },
  {
   "cell_type": "markdown",
   "id": "b2700ae1",
   "metadata": {},
   "source": [
    "类是“蓝图”，对象是“产品”；\n",
    "\n",
    "每个对象通过 __init__ 拥有属于自己的属性；\n",
    "\n",
    "类属性在所有实例间共享，而实例属性互不影响；\n",
    "\n",
    "理解类和对象的本质，有助于构建清晰的程序结构。"
   ]
  },
  {
   "cell_type": "markdown",
   "id": "f6112302",
   "metadata": {},
   "source": [
    "\n",
    "\n",
    "\n",
    "# 示例代码\n",
    "### 继承和方法重写"
   ]
  },
  {
   "cell_type": "code",
   "execution_count": 1,
   "id": "f4dd1d45",
   "metadata": {},
   "outputs": [
    {
     "name": "stdout",
     "output_type": "stream",
     "text": [
      "动物在叫\n",
      "喵喵喵\n",
      "汪汪汪\n"
     ]
    }
   ],
   "source": [
    "class Animal:\n",
    "    def speak(self):\n",
    "        print(\"动物在叫\")\n",
    "\n",
    "class Cat(Animal):\n",
    "    def speak(self):\n",
    "        print(\"喵喵喵\")\n",
    "\n",
    "class Dog(Animal):\n",
    "    def speak(self):\n",
    "        print(\"汪汪汪\")\n",
    "\n",
    "a = Animal()\n",
    "c = Cat()\n",
    "d = Dog()\n",
    "\n",
    "a.speak()\n",
    "c.speak()\n",
    "d.speak()"
   ]
  },
  {
   "cell_type": "markdown",
   "id": "c20fb756",
   "metadata": {},
   "source": [
    "## ✅ 面向过程与面向对象的对比\n",
    "\n",
    "我们先来看一个简单的对比："
   ]
  },
  {
   "cell_type": "code",
   "execution_count": null,
   "id": "3e5d0a21",
   "metadata": {},
   "outputs": [],
   "source": [
    "# 面向过程：打印一个学生的信息\n",
    "name = \"张三\"\n",
    "age = 18\n",
    "grade = \"高三\"\n",
    "\n",
    "def print_info(name, age, grade):\n",
    "    print(f\"姓名: {name}, 年龄: {age}, 年级: {grade}\")\n",
    "\n",
    "print_info(name, age, grade)"
   ]
  },
  {
   "cell_type": "code",
   "execution_count": null,
   "id": "aa0c17cd",
   "metadata": {},
   "outputs": [],
   "source": [
    "# 面向对象：定义一个学生类\n",
    "class Student:\n",
    "    def __init__(self, name, age, grade):\n",
    "        self.name = name\n",
    "        self.age = age\n",
    "        self.grade = grade\n",
    "\n",
    "    def print_info(self):\n",
    "        print(f\"姓名: {self.name}, 年龄: {self.age}, 年级: {self.grade}\")\n",
    "\n",
    "stu = Student(\"李四\", 17, \"高二\")\n",
    "stu.print_info()"
   ]
  },
  {
   "cell_type": "markdown",
   "id": "6316fefc",
   "metadata": {},
   "source": [
    "通过对比你可以发现，面向对象更关注“事物”，比如我们把学生当作一个对象，让他拥有自己的数据（属性）和行为（方法），这更加贴近现实世界。"
   ]
  },
  {
   "cell_type": "markdown",
   "id": "9cae163b",
   "metadata": {},
   "source": [
    "## 🧱 类的构造函数和实例化练习"
   ]
  },
  {
   "cell_type": "code",
   "execution_count": null,
   "id": "1858923c",
   "metadata": {},
   "outputs": [],
   "source": [
    "class Dog:\n",
    "    def __init__(self, name, breed):\n",
    "        self.name = name\n",
    "        self.breed = breed\n",
    "\n",
    "    def bark(self):\n",
    "        print(f\"{self.name}（{self.breed}）汪汪叫！\")\n",
    "\n",
    "# 创建两个实例\n",
    "dog1 = Dog(\"小黑\", \"哈士奇\")\n",
    "dog2 = Dog(\"大黄\", \"拉布拉多\")\n",
    "\n",
    "dog1.bark()\n",
    "dog2.bark()"
   ]
  },
  {
   "cell_type": "markdown",
   "id": "6bd17ce4",
   "metadata": {},
   "source": [
    "## 🔁 封装性示例：保护数据"
   ]
  },
  {
   "cell_type": "markdown",
   "id": "b45e212c",
   "metadata": {},
   "source": [
    "### 示例：封装和私有属性"
   ]
  },
  {
   "cell_type": "code",
   "execution_count": null,
   "id": "fea86ee3",
   "metadata": {},
   "outputs": [],
   "source": [
    "class BankAccount:\n",
    "    def __init__(self, owner, balance):\n",
    "        self.owner = owner\n",
    "        self.__balance = balance\n",
    "\n",
    "    def deposit(self, amount):\n",
    "        if amount > 0:\n",
    "            self.__balance += amount\n",
    "\n",
    "    def get_balance(self):\n",
    "        return self.__balance\n",
    "\n",
    "account = BankAccount(\"张三\", 1000)\n",
    "account.deposit(500)\n",
    "print(f\"{account.owner} 的账户余额为：{account.get_balance()} 元\")\n",
    "\n",
    "# 尝试访问私有变量\n",
    "try:\n",
    "    print(account.__balance)\n",
    "except AttributeError as e:\n",
    "    print(\"错误：\", e)"
   ]
  },
  {
   "cell_type": "code",
   "execution_count": null,
   "id": "ed6bbc33",
   "metadata": {},
   "outputs": [],
   "source": [
    "class BankAccount:\n",
    "    def __init__(self, owner, balance):\n",
    "        self.owner = owner\n",
    "        self.__balance = balance  # 私有变量\n",
    "\n",
    "    def deposit(self, amount):\n",
    "        if amount > 0:\n",
    "            self.__balance += amount\n",
    "\n",
    "    def get_balance(self):\n",
    "        return self.__balance\n",
    "\n",
    "account = BankAccount(\"张三\", 1000)\n",
    "account.deposit(500)\n",
    "print(f\"{account.owner} 的账户余额为：{account.get_balance()} 元\")\n",
    "\n",
    "# 尝试访问私有变量\n",
    "try:\n",
    "    print(account.__balance)\n",
    "except AttributeError as e:\n",
    "    print(\"错误：\", e)"
   ]
  },
  {
   "cell_type": "markdown",
   "id": "9d36e50c",
   "metadata": {},
   "source": [
    "## 👨‍👩‍👧‍👦 继承性示例：定义子类"
   ]
  },
  {
   "cell_type": "markdown",
   "id": "f6e8750f",
   "metadata": {},
   "source": [
    "### 示例：继承和方法重写"
   ]
  },
  {
   "cell_type": "code",
   "execution_count": null,
   "id": "a5bc6a53",
   "metadata": {},
   "outputs": [],
   "source": [
    "class Animal:\n",
    "    def speak(self):\n",
    "        print(\"动物在叫\")\n",
    "\n",
    "class Cat(Animal):\n",
    "    def speak(self):\n",
    "        print(\"喵喵喵\")\n",
    "\n",
    "class Dog(Animal):\n",
    "    def speak(self):\n",
    "        print(\"汪汪汪\")\n",
    "\n",
    "a = Animal()\n",
    "c = Cat()\n",
    "d = Dog()\n",
    "\n",
    "a.speak()\n",
    "c.speak()\n",
    "d.speak()"
   ]
  },
  {
   "cell_type": "code",
   "execution_count": null,
   "id": "b2a604e4",
   "metadata": {},
   "outputs": [],
   "source": [
    "class Animal:\n",
    "    def speak(self):\n",
    "        print(\"动物在叫\")\n",
    "\n",
    "class Cat(Animal):\n",
    "    def speak(self):\n",
    "        print(\"喵喵喵\")\n",
    "\n",
    "class Dog(Animal):\n",
    "    def speak(self):\n",
    "        print(\"汪汪汪\")\n",
    "\n",
    "a = Animal()\n",
    "c = Cat()\n",
    "d = Dog()\n",
    "\n",
    "a.speak()\n",
    "c.speak()\n",
    "d.speak()"
   ]
  },
  {
   "cell_type": "markdown",
   "id": "a4c7b14d",
   "metadata": {},
   "source": [
    "## 🌀 多态性示例：统一调用接口"
   ]
  },
  {
   "cell_type": "markdown",
   "id": "7be4a437",
   "metadata": {},
   "source": [
    "### 示例：多态的统一调用"
   ]
  },
  {
   "cell_type": "code",
   "execution_count": null,
   "id": "9e76dcb5",
   "metadata": {},
   "outputs": [],
   "source": [
    "def animal_speak(animal):\n",
    "    animal.speak()\n",
    "\n",
    "animals = [Cat(), Dog()]\n",
    "for animal in animals:\n",
    "    animal_speak(animal)"
   ]
  },
  {
   "cell_type": "code",
   "execution_count": null,
   "id": "b41f6f83",
   "metadata": {},
   "outputs": [],
   "source": [
    "def animal_speak(animal):\n",
    "    animal.speak()\n",
    "\n",
    "animals = [Cat(), Dog()]\n",
    "for animal in animals:\n",
    "    animal_speak(animal)"
   ]
  }
 ],
 "metadata": {
  "kernelspec": {
   "display_name": "Python 3 (ipykernel)",
   "language": "python",
   "name": "python3"
  },
  "language_info": {
   "codemirror_mode": {
    "name": "ipython",
    "version": 3
   },
   "file_extension": ".py",
   "mimetype": "text/x-python",
   "name": "python",
   "nbconvert_exporter": "python",
   "pygments_lexer": "ipython3",
   "version": "3.11.7"
  }
 },
 "nbformat": 4,
 "nbformat_minor": 5
}
