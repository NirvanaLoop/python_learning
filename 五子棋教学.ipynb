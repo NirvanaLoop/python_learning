{
 "cells": [
  {
   "cell_type": "markdown",
   "id": "b236656b",
   "metadata": {},
   "source": [
    "# 🎮 单元一：绘制五子棋棋盘\n",
    "\n",
    "## 教学目标\n",
    "- 掌握 tkinter 库的基本使用\n",
    "- 绘制 15x15 的棋盘网格\n",
    "- 为后续落子与判断做准备"
   ]
  },
  {
   "cell_type": "code",
   "execution_count": null,
   "id": "c8c27390",
   "metadata": {},
   "outputs": [],
   "source": [
    "import tkinter as tk\n",
    "\n",
    "BOARD_SIZE = 15\n",
    "GRID_SIZE = 40\n",
    "BOARD_PIXEL = GRID_SIZE * (BOARD_SIZE - 1)\n",
    "\n",
    "root = tk.Tk()\n",
    "root.title(\"五子棋\")\n",
    "\n",
    "canvas = tk.Canvas(root, width=BOARD_PIXEL, height=BOARD_PIXEL, bg='#F0D9B5')\n",
    "canvas.pack()\n",
    "\n",
    "# 画棋盘线\n",
    "for i in range(BOARD_SIZE):\n",
    "    canvas.create_line(GRID_SIZE * i, 0, GRID_SIZE * i, BOARD_PIXEL)\n",
    "    canvas.create_line(0, GRID_SIZE * i, BOARD_PIXEL, GRID_SIZE * i)\n",
    "\n",
    "root.mainloop()"
   ]
  },
  {
   "cell_type": "markdown",
   "id": "7ab06f05",
   "metadata": {},
   "source": [
    "✅ **动手练习**：尝试将棋盘颜色改为白色，或调整网格大小。\n",
    "\n",
    "🎯 **挑战**：在棋盘中间绘制五个“天元点”（即星位）用作装饰。"
   ]
  },
  {
   "cell_type": "markdown",
   "id": "112c0788",
   "metadata": {},
   "source": [
    "# ✏️ 单元二：实现玩家落子功能\n",
    "\n",
    "## 教学目标\n",
    "- 实现鼠标点击落子\n",
    "- 用二维数组记录棋盘状态\n",
    "- 显示黑白棋子交替"
   ]
  },
  {
   "cell_type": "code",
   "execution_count": null,
   "id": "84a7e50a",
   "metadata": {},
   "outputs": [],
   "source": [
    "import tkinter as tk\n",
    "\n",
    "BOARD_SIZE = 15\n",
    "GRID_SIZE = 40\n",
    "STONE_RADIUS = 15\n",
    "\n",
    "board = [[0] * BOARD_SIZE for _ in range(BOARD_SIZE)]\n",
    "turn = 1  # 1 表示黑子，2 表示白子\n",
    "\n",
    "def draw_stone(x, y, player):\n",
    "    color = \"black\" if player == 1 else \"white\"\n",
    "    canvas.create_oval(\n",
    "        x - STONE_RADIUS, y - STONE_RADIUS,\n",
    "        x + STONE_RADIUS, y + STONE_RADIUS,\n",
    "        fill=color)\n",
    "\n",
    "def click(event):\n",
    "    global turn\n",
    "    col = round(event.x / GRID_SIZE)\n",
    "    row = round(event.y / GRID_SIZE)\n",
    "    if 0 <= row < BOARD_SIZE and 0 <= col < BOARD_SIZE:\n",
    "        if board[row][col] == 0:\n",
    "            board[row][col] = turn\n",
    "            draw_stone(col * GRID_SIZE, row * GRID_SIZE, turn)\n",
    "            turn = 3 - turn  # 黑白轮换\n",
    "\n",
    "root = tk.Tk()\n",
    "canvas = tk.Canvas(root, width=GRID_SIZE*BOARD_SIZE, height=GRID_SIZE*BOARD_SIZE, bg='#F0D9B5')\n",
    "canvas.pack()\n",
    "\n",
    "# 绘制棋盘\n",
    "for i in range(BOARD_SIZE):\n",
    "    canvas.create_line(GRID_SIZE * i, 0, GRID_SIZE * i, GRID_SIZE * (BOARD_SIZE - 1))\n",
    "    canvas.create_line(0, GRID_SIZE * i, GRID_SIZE * (BOARD_SIZE - 1), GRID_SIZE * i)\n",
    "\n",
    "canvas.bind(\"<Button-1>\", click)\n",
    "root.mainloop()"
   ]
  },
  {
   "cell_type": "markdown",
   "id": "2c977c84",
   "metadata": {},
   "source": [
    "✅ **动手练习**：让程序显示当前轮到谁下。\n",
    "\n",
    "🎯 **挑战**：避免重复点击同一位置时再次落子。"
   ]
  },
  {
   "cell_type": "markdown",
   "id": "9dd4aedb",
   "metadata": {},
   "source": [
    "# 🏆 单元三：判断胜负\n",
    "\n",
    "## 教学目标\n",
    "- 实现五子连珠判断\n",
    "- 检查横/竖/斜方向是否有连续 5 个相同棋子"
   ]
  },
  {
   "cell_type": "code",
   "execution_count": null,
   "id": "bf48370d",
   "metadata": {},
   "outputs": [],
   "source": [
    "def check_win(r, c, player):\n",
    "    directions = [(1,0), (0,1), (1,1), (1,-1)]\n",
    "    for dr, dc in directions:\n",
    "        count = 1\n",
    "        for i in range(1, 5):\n",
    "            nr, nc = r + dr*i, c + dc*i\n",
    "            if 0 <= nr < BOARD_SIZE and 0 <= nc < BOARD_SIZE and board[nr][nc] == player:\n",
    "                count += 1\n",
    "            else:\n",
    "                break\n",
    "        for i in range(1, 5):\n",
    "            nr, nc = r - dr*i, c - dc*i\n",
    "            if 0 <= nr < BOARD_SIZE and 0 <= nc < BOARD_SIZE and board[nr][nc] == player:\n",
    "                count += 1\n",
    "            else:\n",
    "                break\n",
    "        if count >= 5:\n",
    "            return True\n",
    "    return False"
   ]
  },
  {
   "cell_type": "markdown",
   "id": "5e950948",
   "metadata": {},
   "source": [
    "✅ **动手练习**：调用 `check_win()` 检查每一步是否胜利，并弹窗提示。\n",
    "\n",
    "🎯 **挑战**：尝试实现“和棋”判断。"
   ]
  },
  {
   "cell_type": "markdown",
   "id": "9243f9c1",
   "metadata": {},
   "source": [
    "# 🤖 单元四：添加简单AI对手\n",
    "\n",
    "## 教学目标\n",
    "- 学习用评分函数模拟“聪明的下法”\n",
    "- AI 扫描棋盘所有空位，打分并选择最高"
   ]
  },
  {
   "cell_type": "code",
   "execution_count": null,
   "id": "49f5fe01",
   "metadata": {},
   "outputs": [],
   "source": [
    "def evaluate_point(r, c, player):\n",
    "    # 简化评分函数：上下左右判断是否有相邻棋子\n",
    "    score = 0\n",
    "    directions = [(1,0), (0,1), (1,1), (1,-1)]\n",
    "    for dr, dc in directions:\n",
    "        for i in range(1, 3):\n",
    "            nr, nc = r + dr*i, c + dc*i\n",
    "            if 0 <= nr < BOARD_SIZE and 0 <= nc < BOARD_SIZE and board[nr][nc] == player:\n",
    "                score += 10\n",
    "    return score\n",
    "\n",
    "def ai_move():\n",
    "    best_score = -1\n",
    "    move = (7, 7)\n",
    "    for r in range(BOARD_SIZE):\n",
    "        for c in range(BOARD_SIZE):\n",
    "            if board[r][c] == 0:\n",
    "                s = evaluate_point(r, c, 2)\n",
    "                if s > best_score:\n",
    "                    best_score = s\n",
    "                    move = (r, c)\n",
    "    board[move[0]][move[1]] = 2\n",
    "    draw_stone(move[1] * GRID_SIZE, move[0] * GRID_SIZE, 2)"
   ]
  },
  {
   "cell_type": "markdown",
   "id": "e0dd9572",
   "metadata": {},
   "source": [
    "✅ **动手练习**：尝试让 AI 在每次玩家落子后立即落子。\n",
    "\n",
    "🎯 **挑战**：增加对“堵住玩家五连”的判断，让 AI 更“聪明”。"
   ]
  },
  {
   "cell_type": "markdown",
   "id": "0eb12d0c",
   "metadata": {},
   "source": [
    "# 🧠 单元五：项目优化建议\n",
    "\n",
    "- 添加悔棋功能（使用列表保存每一步）\n",
    "- 添加胜利弹窗（用 `tk.messagebox`）\n",
    "- 美化界面（加入棋子图像或动画）\n",
    "\n",
    "🎯 最终挑战项目建议：\n",
    "- 完整封装为类结构\n",
    "- 制作“人机对战”完整版本，支持设置先手、难度等"
   ]
  }
 ],
 "metadata": {},
 "nbformat": 4,
 "nbformat_minor": 5
}